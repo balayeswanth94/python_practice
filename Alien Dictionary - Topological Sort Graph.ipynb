{
 "cells": [
  {
   "cell_type": "code",
   "execution_count": null,
   "metadata": {},
   "outputs": [],
   "source": [
    "'''\n",
    "269. Alien Dictionary\n",
    "https://leetcode.com/problems/alien-dictionary/\n",
    "https://www.youtube.com/watch?v=ddTC4Zovtbc\n",
    "- Topological Sorting (Preorder, Level order (BFS) yields same results)\n",
    "- All parents must appear before any of their child\n",
    "\n",
    "Logic for building visited matrix\n",
    "    - fill with -1\n",
    "    - fill with 0 for elements that we are going to use\n",
    "    - fill with 1 if we start recursive DFS for it \n",
    "    - fill with 2 once DFS is ended and all its children are visited\n",
    "\n",
    "Logic for building Adj. matrix (Confused, may be because of requirement)\n",
    "    - Look vertically map like w[i-1][0]->w[i][0]\n",
    "    - Once we mark one map in adj matrix we can break\n",
    "    - abc, akf \n",
    "        = a->a is skiped\n",
    "        = b->k is mapped in adj matrix and break\n",
    "        = c->f is not mapped because of the break (confused dont know why :/)\n",
    "    \n",
    "Logic for TopoSort using DFS, Adj Matrix\n",
    "    - Visited set to 1 when starting DFS\n",
    "    - Visited set to 2 after all its children are visited\n",
    "    - Element pushed to stack after all its children are visited\n",
    "    \n",
    "1. Construct a graph first with the given input \n",
    "2. Loop through it using visited matrix\n",
    "3. Recurse/Move till the final node where no childs are the and ADD IT IN THE STACK\n",
    "4. Repeat and finnaly once all are visited print the Stack\n",
    "\n",
    "\n",
    "Time complexity : O(V^2) = DFS Using Adj matrix\n",
    "\n",
    "https://leetcode.com/problems/alien-dictionary/discuss/70115/3ms-Clean-Java-Solution-(DFS)\n",
    "\n",
    "'''\n"
   ]
  },
  {
   "cell_type": "code",
   "execution_count": 90,
   "metadata": {},
   "outputs": [
    {
     "name": "stdout",
     "output_type": "stream",
     "text": [
      "['b', 'a', 'c', 'z']\n",
      "zcab\n"
     ]
    }
   ],
   "source": [
    "class Solution:\n",
    "    def buildGraph(self, words):\n",
    "        visited = [-1]*26\n",
    "        adj = [ [0]*26 for i in range (26) ]\n",
    "        '''\n",
    "        Mark the available as 0 others as -1 to avoid doing dfs on all the variables\n",
    "        '''\n",
    "        for word in words:\n",
    "            for c in list(word):\n",
    "                visited[ord(c)-97] = 0\n",
    "        for i in range(1, len(words)):\n",
    "            pre = words[i-1]\n",
    "            curr = words[i]\n",
    "            l = min(len(pre), len(curr))\n",
    "            for j in range(l):\n",
    "                if ord(pre[j])-97 != ord(curr[j])-97:\n",
    "                    adj[ord(pre[j])-97][ord(curr[j])-97] = 1\n",
    "                    break\n",
    "        return adj, visited\n",
    "    \n",
    "    def alienOrder(self, words):\n",
    "        adj, visited = self.buildGraph(words)\n",
    "        res = []\n",
    "        def dfs(node):\n",
    "            visited[node] = 1\n",
    "            for j in range(26):\n",
    "                if adj[node][j] != 0:\n",
    "                    if visited[j] == 1: #cycle, still visiting\n",
    "                        return False\n",
    "                    if visited[j] == 0: #not visited, traverse it \n",
    "                        if not dfs(j):\n",
    "                            return False\n",
    "            visited[node] = 2 #Once all the child are traversed we can mark it as done - 2\n",
    "            res.append(chr(node+97)) #Once all the children are traversed mark push it into the stack\n",
    "            return True\n",
    "        \n",
    "        for i in range(26):\n",
    "            if visited[i] == 0:\n",
    "                if not dfs(i):\n",
    "                    return \"\"\n",
    "        return \"\".join(res[::-1])\n",
    "        \n",
    "        \n",
    "# print (Solution().alienOrder([\"wrt\",\"wrf\",\"er\",\"ett\",\"rftt\"])) # \"wertf\"\n",
    "# print (Solution().alienOrder([\"z\",\"x\"])) # \"zx\"\n",
    "# print (Solution().alienOrder([\"z\",\"x\",\"z\"])) # \"\"\n",
    "print (Solution().alienOrder([\"za\",\"zb\",\"ca\",\"cb\"])) # \"abzc\"\n"
   ]
  },
  {
   "cell_type": "code",
   "execution_count": null,
   "metadata": {},
   "outputs": [],
   "source": []
  }
 ],
 "metadata": {
  "kernelspec": {
   "display_name": "Python 3",
   "language": "python",
   "name": "python3"
  },
  "language_info": {
   "codemirror_mode": {
    "name": "ipython",
    "version": 3
   },
   "file_extension": ".py",
   "mimetype": "text/x-python",
   "name": "python",
   "nbconvert_exporter": "python",
   "pygments_lexer": "ipython3",
   "version": "3.6.8"
  }
 },
 "nbformat": 4,
 "nbformat_minor": 2
}
