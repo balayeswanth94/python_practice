{
 "cells": [
  {
   "cell_type": "code",
   "execution_count": 8,
   "metadata": {},
   "outputs": [
    {
     "data": {
      "text/plain": [
       "'Information Technology'"
      ]
     },
     "execution_count": 8,
     "metadata": {},
     "output_type": "execute_result"
    }
   ],
   "source": [
    "# getter setter decerator\n",
    "\n",
    "\n",
    "\n",
    "class Company:\n",
    "    def __init__(self, name = None, number_of_employees = None, sector = None):\n",
    "        self.name = name\n",
    "        self.number_of_employees = number_of_employees\n",
    "        self.sector = sector\n",
    "\n",
    "    @property\n",
    "    def sector(self):\n",
    "        return self._sector\n",
    "\n",
    "    @sector.setter\n",
    "    def sector(self, sector):\n",
    "        if sector == \"IT\":\n",
    "            self._sector = \"Information Technology\"\n",
    "\n",
    "\n",
    "neogrowth = Company()\n",
    "neogrowth.name = \"Neogrowth\"\n",
    "neogrowth.sector = \"IT\"\n",
    "\n",
    "# print (neogrowth.sector)\n",
    "\n",
    "\n",
    "\n",
    "razerpay = Company(sector = \"IT\")\n",
    "razerpay.sector\n",
    "        "
   ]
  },
  {
   "cell_type": "code",
   "execution_count": null,
   "metadata": {},
   "outputs": [],
   "source": []
  }
 ],
 "metadata": {
  "kernelspec": {
   "display_name": "Python 3",
   "language": "python",
   "name": "python3"
  },
  "language_info": {
   "codemirror_mode": {
    "name": "ipython",
    "version": 3
   },
   "file_extension": ".py",
   "mimetype": "text/x-python",
   "name": "python",
   "nbconvert_exporter": "python",
   "pygments_lexer": "ipython3",
   "version": "3.6.8"
  }
 },
 "nbformat": 4,
 "nbformat_minor": 2
}
