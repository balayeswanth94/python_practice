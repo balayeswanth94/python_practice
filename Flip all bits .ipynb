{
 "cells": [
  {
   "cell_type": "code",
   "execution_count": 14,
   "metadata": {},
   "outputs": [
    {
     "data": {
      "text/plain": [
       "1010"
      ]
     },
     "execution_count": 14,
     "metadata": {},
     "output_type": "execute_result"
    }
   ],
   "source": [
    "int(bin(10)[2:])"
   ]
  },
  {
   "cell_type": "code",
   "execution_count": 37,
   "metadata": {
    "scrolled": false
   },
   "outputs": [
    {
     "name": "stdout",
     "output_type": "stream",
     "text": [
      "for i =  1 complement ::  0\n",
      "for i =  2 complement ::  1\n",
      "for i =  3 complement ::  0\n",
      "for i =  4 complement ::  3\n",
      "for i =  5 complement ::  2\n",
      "for i =  6 complement ::  1\n",
      "for i =  7 complement ::  0\n",
      "for i =  8 complement ::  7\n",
      "for i =  9 complement ::  6\n",
      "for i =  10 complement ::  5\n",
      "for i =  11 complement ::  4\n"
     ]
    }
   ],
   "source": [
    "\n",
    "\n",
    "def findComplement(n):\n",
    "    x = int(bin(n)[2:])\n",
    "    i = 0\n",
    "    ans = 0\n",
    "    while x > 0:\n",
    "    #     print (\"i =\", i, \" ; \", int(x%10), (1 - int(x%10)), (2**i), (1 - int(x%10)) * (2**i))\n",
    "        ans += (1 - int(x%10)) * (2**i)\n",
    "        i += 1\n",
    "        x = x//10\n",
    "    return ans\n",
    "\n",
    "for i in range(1,12):\n",
    "    print (\"for i = \", i , \"complement :: \", findComplement(i))\n",
    "    "
   ]
  },
  {
   "cell_type": "code",
   "execution_count": 34,
   "metadata": {},
   "outputs": [
    {
     "data": {
      "text/plain": [
       "2"
      ]
     },
     "execution_count": 34,
     "metadata": {},
     "output_type": "execute_result"
    }
   ],
   "source": [
    "2**1"
   ]
  },
  {
   "cell_type": "code",
   "execution_count": null,
   "metadata": {},
   "outputs": [],
   "source": []
  }
 ],
 "metadata": {
  "kernelspec": {
   "display_name": "Python 3",
   "language": "python",
   "name": "python3"
  },
  "language_info": {
   "codemirror_mode": {
    "name": "ipython",
    "version": 3
   },
   "file_extension": ".py",
   "mimetype": "text/x-python",
   "name": "python",
   "nbconvert_exporter": "python",
   "pygments_lexer": "ipython3",
   "version": "3.6.8"
  }
 },
 "nbformat": 4,
 "nbformat_minor": 2
}
