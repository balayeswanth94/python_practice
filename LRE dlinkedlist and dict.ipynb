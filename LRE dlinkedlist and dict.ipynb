{
 "cells": [
  {
   "cell_type": "code",
   "execution_count": null,
   "metadata": {},
   "outputs": [],
   "source": [
    "class Node:\n",
    "    def __init__(self, key, val):\n",
    "        self.key = key\n",
    "        self.val = val\n",
    "        self.next = None\n",
    "        self.prev = None\n",
    "class LRUCache:\n",
    "    def __init__(self, capacity):\n",
    "        self.capacity = capacity\n",
    "        self.head = Node(0,0)\n",
    "        self.tail = Node(0,0)\n",
    "        self.head.next = self.tail\n",
    "        self.tail.prev = self.head\n",
    "        self.dict = {}\n",
    "        \n",
    "    def put(self, key, val):\n",
    "        if key in self.dict:\n",
    "            self._remove(self.dict[key])\n",
    "        n = Node(key, val)\n",
    "        self._add(n)\n",
    "        self.dict[n.key] = n\n",
    "        if len(self.dict) > self.capacity:\n",
    "            n = self.head.next\n",
    "            self._remove(n)\n",
    "            self.dict.pop(n.key, None) \n",
    "        \n",
    "    def get(self, key):\n",
    "        if key in self.dict:\n",
    "            n = self.dict[key]\n",
    "            self._remove(n)\n",
    "            self._add(n)\n",
    "            return n.val\n",
    "        return -1\n",
    "    \n",
    "    def _remove(self, node):\n",
    "        p = node.prev\n",
    "        n = node.next\n",
    "        p.next = n\n",
    "        n.prev = p\n",
    "\n",
    "    def _add(self, n):\n",
    "        p = self.tail.prev\n",
    "        p.next = n\n",
    "        n.prev = p\n",
    "        n.next = self.tail\n",
    "        self.tail.prev = n\n",
    "\n",
    "        \n",
    "# Your LRUCache object will be instantiated and called as such:\n",
    "obj = LRUCache(5)\n",
    "obj.put(1,1)\n",
    "param_1 = obj.get(1)\n",
    "obj.put(2,2)\n",
    "obj.get(1).val"
   ]
  },
  {
   "cell_type": "code",
   "execution_count": null,
   "metadata": {},
   "outputs": [],
   "source": [
    "# Very fast than the first approach\n",
    "# https://docs.python.org/3/library/collections.html#collections.OrderedDict\n",
    "# move_to_end(key, last=True) ->moves existing key to last\n",
    "# move_to_end(key, last=False) ->moves existing key to first\n",
    "# popitem(last=True) -> LIFO Remove element from last\n",
    "# popitem(last=False) -> FILO Remove element from first\n",
    "\n",
    "class LRUCache(object):\n",
    "\n",
    "    def __init__(self, capacity):\n",
    "        self.od = collections.OrderedDict()\n",
    "        self.cap = capacity\n",
    "\n",
    "    def get(self, key):\n",
    "        if key not in self.od: return -1\n",
    "        self.od.move_to_end(key)\n",
    "        return self.od[key]\n",
    "\n",
    "    def put(self, key, value):\n",
    "        if key in self.od:\n",
    "            del self.od[key]\n",
    "            self.od[key] = value\n",
    "        else:\n",
    "            while len(self.od) >= self.cap:\n",
    "                self.od.popitem(False)\n",
    "            self.od[key] = value\n",
    "# Your LRUCache object will be instantiated and called as such:\n",
    "obj = LRUCache(5)\n",
    "obj.put(1,1)\n",
    "param_1 = obj.get(1)\n",
    "obj.put(2,2)\n",
    "obj.get(1).val"
   ]
  },
  {
   "cell_type": "code",
   "execution_count": 1,
   "metadata": {},
   "outputs": [
    {
     "name": "stdout",
     "output_type": "stream",
     "text": [
      "OrderedDict([(2, 2), (1, 1), (3, 3)])\n",
      "OrderedDict([(2, 2), (1, 1)])\n"
     ]
    }
   ],
   "source": [
    "import collections\n",
    "od = collections.OrderedDict()\n",
    "od[1] = 1\n",
    "od[2] = 2\n",
    "od.move_to_end(1)\n",
    "od[3] = 3\n",
    "print (od)\n",
    "# od.popitem(False)\n",
    "od.popitem(True)\n",
    "print (od)"
   ]
  },
  {
   "cell_type": "code",
   "execution_count": null,
   "metadata": {},
   "outputs": [],
   "source": []
  }
 ],
 "metadata": {
  "kernelspec": {
   "display_name": "Python 3",
   "language": "python",
   "name": "python3"
  },
  "language_info": {
   "codemirror_mode": {
    "name": "ipython",
    "version": 3
   },
   "file_extension": ".py",
   "mimetype": "text/x-python",
   "name": "python",
   "nbconvert_exporter": "python",
   "pygments_lexer": "ipython3",
   "version": "3.6.8"
  }
 },
 "nbformat": 4,
 "nbformat_minor": 2
}
