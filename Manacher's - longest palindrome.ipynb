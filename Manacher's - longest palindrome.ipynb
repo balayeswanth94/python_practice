{
 "cells": [
  {
   "cell_type": "code",
   "execution_count": 22,
   "metadata": {},
   "outputs": [
    {
     "name": "stdout",
     "output_type": "stream",
     "text": [
      "[0, False, False, 0, 0, 0, 0, 0, 0, 0, 0, 0, 0]\n",
      "[0, False, 1, False, False, 0, 0, 0, 0, 0, 0, 0, 0]\n",
      "[0, False, 1, False, 1, 0, 0, 0, 0, 0, 0, 0, 0]\n",
      "[0, False, 1, False, 2, 0, 0, 0, 0, 0, 0, 0, 0]\n",
      "[0, False, 1, False, 3, False, 1, 0, 0, 0, 0, 0, 0]\n",
      "[0, False, 1, False, 3, False, 2, 0, 0, 0, 0, 0, 0]\n",
      "[0, False, 1, False, 3, False, 3, False, 1, False, False, 0, 0]\n",
      "aba\n"
     ]
    }
   ],
   "source": [
    "class Solution:\n",
    "    def longestPalindrome(self, s: str) -> str:\n",
    "        # Transform S into T.\n",
    "        # For example, S = \"abba\", T = \"^#a#b#b#a#$\".\n",
    "        # ^ and $ signs are sentinels appended to each end to avoid bounds checking\n",
    "        T = '#'.join('^{}$'.format(s))\n",
    "        n = len(T)\n",
    "        P = [0] * n\n",
    "        C = R = 0\n",
    "        for i in range (1, n-1):\n",
    "#             print (P)\n",
    "            P[i] = (R > i) and min(R - i, P[2*C - i]) # equals to i' = C - (i-C)\n",
    "            # Attempt to expand palindrome centered at i\n",
    "            while T[i + 1 + P[i]] == T[i - 1 - P[i]]:\n",
    "                print (P)\n",
    "                P[i] += 1\n",
    "    \n",
    "            # If palindrome centered at i expand past R,\n",
    "            # adjust center based on expanded palindrome.\n",
    "            if i + P[i] > R:\n",
    "                C, R = i, i + P[i]\n",
    "    \n",
    "        # Find the maximum element in P.\n",
    "        maxLen, centerIndex = max((n, i) for i, n in enumerate(P))\n",
    "        return s[(centerIndex  - maxLen)//2: (centerIndex  + maxLen)//2]        \n",
    "        \n",
    "        \n",
    "print (Solution().longestPalindrome('babad'))"
   ]
  },
  {
   "cell_type": "code",
   "execution_count": null,
   "metadata": {},
   "outputs": [],
   "source": []
  },
  {
   "cell_type": "code",
   "execution_count": null,
   "metadata": {},
   "outputs": [],
   "source": []
  },
  {
   "cell_type": "code",
   "execution_count": null,
   "metadata": {},
   "outputs": [],
   "source": []
  },
  {
   "cell_type": "code",
   "execution_count": 14,
   "metadata": {},
   "outputs": [
    {
     "name": "stdout",
     "output_type": "stream",
     "text": [
      "0 , 0 , 0\n",
      "0 , 1 , 0\n",
      "1 , 2 , 2\n",
      "1 , 3 , 2\n",
      "3\n"
     ]
    }
   ],
   "source": [
    "class Solution:\n",
    "    def lengthOfLongestSubstring(self, s: 'str') -> 'int':\n",
    "        res = 0\n",
    "        start = 0\n",
    "        d = {}\n",
    "        for i,c in enumerate(s):\n",
    "            if c in d:\n",
    "                res = max(res, i-start)\n",
    "#                 start = i\n",
    "                start = max(start, d[c] + 1)\n",
    "\n",
    "            print (start, \",\", i, \",\", res)\n",
    "            d[c] = i\n",
    "            \n",
    "        return max(res, len(s) - start)\n",
    "    \n",
    "    \n",
    "# print (Solution().lengthOfLongestSubstring(\"abba\"))\n",
    "# print (Solution().lengthOfLongestSubstring(\"pwwkew\"))\n",
    "print (Solution().lengthOfLongestSubstring(\"dvdf\"))\n",
    "\n"
   ]
  },
  {
   "cell_type": "code",
   "execution_count": null,
   "metadata": {},
   "outputs": [],
   "source": []
  },
  {
   "cell_type": "code",
   "execution_count": null,
   "metadata": {},
   "outputs": [],
   "source": []
  },
  {
   "cell_type": "code",
   "execution_count": null,
   "metadata": {},
   "outputs": [],
   "source": []
  }
 ],
 "metadata": {
  "kernelspec": {
   "display_name": "Python 3",
   "language": "python",
   "name": "python3"
  },
  "language_info": {
   "codemirror_mode": {
    "name": "ipython",
    "version": 3
   },
   "file_extension": ".py",
   "mimetype": "text/x-python",
   "name": "python",
   "nbconvert_exporter": "python",
   "pygments_lexer": "ipython3",
   "version": "3.7.1"
  }
 },
 "nbformat": 4,
 "nbformat_minor": 2
}
