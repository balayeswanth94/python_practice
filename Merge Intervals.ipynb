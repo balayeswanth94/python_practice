{
 "cells": [
  {
   "cell_type": "code",
   "execution_count": null,
   "metadata": {},
   "outputs": [],
   "source": [
    "'''\n",
    "https://leetcode.com/problems/merge-intervals/\n",
    "'''"
   ]
  },
  {
   "cell_type": "code",
   "execution_count": 23,
   "metadata": {},
   "outputs": [
    {
     "name": "stdout",
     "output_type": "stream",
     "text": [
      "[[15, 18], [8, 90], [1, 3], [2, 6]]\n",
      "[[1, 3], [2, 6], [8, 90], [15, 18]]\n",
      "[[1, 6], [8, 90]]\n"
     ]
    }
   ],
   "source": [
    "class Solution:\n",
    "    def merge(self, intervals):\n",
    "        if len(intervals) < 1 or not intervals:\n",
    "            return []\n",
    "        print (intervals)\n",
    "        intervals.sort()\n",
    "        print (intervals)\n",
    "        res = [intervals[0]]\n",
    "        curr = 0\n",
    "        for pair in intervals:\n",
    "            start = pair[0]\n",
    "            end = pair[1]\n",
    "            if res[curr][1] >= start:\n",
    "                if res[curr][1] < end:\n",
    "                    res[curr][1] = end\n",
    "            else:\n",
    "                res.append(pair)\n",
    "                curr = curr + 1\n",
    "        return res\n",
    "        \n",
    "        \n",
    "# print (Solution().merge([[1,3],[2,6],[8,10],[15,18]])) #[[1, 6], [8, 10], [15, 18]]\n",
    "print (Solution().merge([[15,18], [8,90], [1,3],[2,6]])) #[[1, 6], [8, 10], [15, 18]]\n",
    "# print (Solution().merge([[1,4],[4,5]])) #[[1, 5]]\n",
    "# print (Solution().merge([[1,4],[0,4]])) #[[0, 4]]\n",
    "# print (Solution().merge([[1,4],[2,3]])) #[[1, 4]]\n",
    "\n",
    "\n",
    "\n",
    "\n"
   ]
  },
  {
   "cell_type": "code",
   "execution_count": null,
   "metadata": {},
   "outputs": [],
   "source": [
    "'''\n",
    "https://leetcode.com/problems/meeting-rooms/\n",
    "'''"
   ]
  },
  {
   "cell_type": "code",
   "execution_count": 28,
   "metadata": {},
   "outputs": [
    {
     "name": "stdout",
     "output_type": "stream",
     "text": [
      "False\n",
      "True\n"
     ]
    }
   ],
   "source": [
    "class Solution:\n",
    "    def canAttendMeetings(self, intervals):\n",
    "        intervals.sort()\n",
    "        pre_pair = [0,0]\n",
    "        for pair in intervals:\n",
    "            if pair[0] < pre_pair[1]:\n",
    "                return False\n",
    "            pre_pair = pair\n",
    "        return True\n",
    "        \n",
    "print (Solution().canAttendMeetings([[0,30],[5,10],[15,20]])) #False\n",
    "print (Solution().canAttendMeetings([[7,10],[2,4]])) #True\n",
    "\n",
    "         \n",
    "        "
   ]
  },
  {
   "cell_type": "code",
   "execution_count": null,
   "metadata": {},
   "outputs": [],
   "source": []
  }
 ],
 "metadata": {
  "kernelspec": {
   "display_name": "Python 3",
   "language": "python",
   "name": "python3"
  },
  "language_info": {
   "codemirror_mode": {
    "name": "ipython",
    "version": 3
   },
   "file_extension": ".py",
   "mimetype": "text/x-python",
   "name": "python",
   "nbconvert_exporter": "python",
   "pygments_lexer": "ipython3",
   "version": "3.6.8"
  }
 },
 "nbformat": 4,
 "nbformat_minor": 2
}
