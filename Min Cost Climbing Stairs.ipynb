{
 "cells": [
  {
   "cell_type": "code",
   "execution_count": null,
   "metadata": {},
   "outputs": [],
   "source": [
    "'''\n",
    "https://leetcode.com/problems/min-cost-climbing-stairs/\n",
    "746. Min Cost Climbing Stairs\n",
    "\n",
    "On a staircase, the i-th step has some non-negative cost cost[i] assigned (0 indexed).\n",
    "\n",
    "Once you pay the cost, you can either climb one or two steps. \n",
    "You need to find minimum cost to reach the top of the floor, \n",
    "and you can either start from the step with index 0, or the step with index 1.\n",
    "\n",
    "'''"
   ]
  },
  {
   "cell_type": "code",
   "execution_count": 15,
   "metadata": {},
   "outputs": [
    {
     "name": "stdout",
     "output_type": "stream",
     "text": [
      "15\n",
      "6\n"
     ]
    }
   ],
   "source": [
    "'''\n",
    "Just check last two steps and update current\n",
    "While returning ans can be last pos or last-1 pos since we can jump 1 or 2 steps\n",
    "'''\n",
    "\n",
    "class Solution:\n",
    "    def minCostClimbingStairs(self, cost) -> int:\n",
    "        T = [None] * len(cost)\n",
    "        T[0] = cost[0]\n",
    "        T[1] = cost[1]\n",
    "        for i in range(2, len(cost)):\n",
    "            T[i] = min (T[i-1], T[i-2]) + cost[i]\n",
    "        return min(T[-1], T[-2])\n",
    "        \n",
    "        \n",
    "print (Solution().minCostClimbingStairs([10, 15, 20])) #15\n",
    "print (Solution().minCostClimbingStairs([1, 100, 1, 1, 1, 100, 1, 1, 100, 1])) #6"
   ]
  },
  {
   "cell_type": "code",
   "execution_count": null,
   "metadata": {},
   "outputs": [],
   "source": []
  }
 ],
 "metadata": {
  "kernelspec": {
   "display_name": "Python 3",
   "language": "python",
   "name": "python3"
  },
  "language_info": {
   "codemirror_mode": {
    "name": "ipython",
    "version": 3
   },
   "file_extension": ".py",
   "mimetype": "text/x-python",
   "name": "python",
   "nbconvert_exporter": "python",
   "pygments_lexer": "ipython3",
   "version": "3.6.8"
  }
 },
 "nbformat": 4,
 "nbformat_minor": 2
}
