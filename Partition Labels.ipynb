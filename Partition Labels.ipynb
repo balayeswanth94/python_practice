{
 "cells": [
  {
   "cell_type": "code",
   "execution_count": null,
   "metadata": {},
   "outputs": [],
   "source": [
    "'''\n",
    "https://leetcode.com/problems/partition-labels/\n",
    "\n",
    "\n",
    "No 2 or more partition should share a letter\n",
    "\n",
    "Simple case will be if first and last letters are same 'abcasd.....vadva' \n",
    "Then we cant split it coz 'a' will be present in more than 1 partition\n",
    "\n",
    "So a partition should be like\n",
    "    - All its letters last occurance should be inside the partition\n",
    "    - When the loop ends last partition might not be appended, so append it after the loop\n",
    "    - (end-start)+1 is the length formula\n",
    "\n",
    "\n",
    "'''"
   ]
  },
  {
   "cell_type": "code",
   "execution_count": 6,
   "metadata": {},
   "outputs": [
    {
     "name": "stdout",
     "output_type": "stream",
     "text": [
      "[9, 7, 8]\n"
     ]
    }
   ],
   "source": [
    "class Solution:\n",
    "    def partitionLabels(self, S: str):\n",
    "        res = []\n",
    "        last_pos = {}\n",
    "        for k,v in enumerate(S):\n",
    "            last_pos[v] = k\n",
    "        start = 0\n",
    "        end = 0\n",
    "        curr = 0\n",
    "        for k,v in enumerate(S):\n",
    "            if k > end:\n",
    "                res.append((end - start)+1)\n",
    "                start = k\n",
    "                end = k\n",
    "            if last_pos[v] > end:\n",
    "                end = last_pos[v]\n",
    "                \n",
    "        res.append((end - start)+1)\n",
    "        return res\n",
    "            \n",
    "        \n",
    "print (Solution().partitionLabels('ababcbacadefegdehijhklij'))"
   ]
  },
  {
   "cell_type": "code",
   "execution_count": null,
   "metadata": {},
   "outputs": [],
   "source": []
  }
 ],
 "metadata": {
  "kernelspec": {
   "display_name": "Python 3",
   "language": "python",
   "name": "python3"
  },
  "language_info": {
   "codemirror_mode": {
    "name": "ipython",
    "version": 3
   },
   "file_extension": ".py",
   "mimetype": "text/x-python",
   "name": "python",
   "nbconvert_exporter": "python",
   "pygments_lexer": "ipython3",
   "version": "3.6.8"
  }
 },
 "nbformat": 4,
 "nbformat_minor": 2
}
