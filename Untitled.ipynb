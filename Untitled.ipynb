{
 "cells": [
  {
   "cell_type": "code",
   "execution_count": null,
   "metadata": {},
   "outputs": [],
   "source": [
    "'''\n",
    "https://stackoverflow.com/questions/2397141/how-to-initialize-a-two-dimensional-array-in-python\n",
    "Don't use [[v]*n]*n, it is a trap!\n",
    "'''\n",
    "a = [[0]*3]*3\n",
    "a\n",
    "# [[0, 0, 0], [0, 0, 0], [0, 0, 0]]\n",
    "a[0][0]=1\n",
    "a\n",
    "# [[1, 0, 0], [1, 0, 0], [1, 0, 0]]\n",
    "# but \n",
    "t = [ [0]*3 for i in range(3)] #is great"
   ]
  }
 ],
 "metadata": {
  "kernelspec": {
   "display_name": "Python 3",
   "language": "python",
   "name": "python3"
  },
  "language_info": {
   "codemirror_mode": {
    "name": "ipython",
    "version": 3
   },
   "file_extension": ".py",
   "mimetype": "text/x-python",
   "name": "python",
   "nbconvert_exporter": "python",
   "pygments_lexer": "ipython3",
   "version": "3.6.8"
  }
 },
 "nbformat": 4,
 "nbformat_minor": 2
}
