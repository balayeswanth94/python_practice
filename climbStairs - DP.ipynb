{
 "cells": [
  {
   "cell_type": "code",
   "execution_count": null,
   "metadata": {},
   "outputs": [],
   "source": [
    "'''\n",
    "https://leetcode.com/problems/climbing-stairs/\n",
    "Climbing Stairs\n",
    "\n",
    "DP, Fibbonochi\n",
    "https://www.youtube.com/watch?v=CFQk7OQO_xM\n",
    "Thusar roy\n",
    "\n",
    "\n",
    "1 or 2 steps at a time\n",
    "Step 4 can be reached from \n",
    "- step 3 + 1\n",
    "- step 2 + 2\n",
    "\n",
    "Solution : number of steps to reach step 2 + step 3\n",
    "\n",
    "\n",
    "n=2    n=3      n=4\n",
    "1,1    1,1,1    1,1,1,1\n",
    "2      2,1      2,1,1      (n=3 + 1)\n",
    "       1,2      1,2,1\n",
    "               --------\n",
    "                1,1,2      (n=2 + 2)\n",
    "                2,2\n",
    "For 1 or 2 step movement\n",
    "f(n) = f(n-1) + f(n-2)\n",
    "\n",
    "If we need to move multiple m steps\n",
    "f(n) = f(n-1) + f(n-2) + ... + f(n-m)\n",
    "\n",
    "\n",
    "\n",
    "'''"
   ]
  },
  {
   "cell_type": "code",
   "execution_count": 59,
   "metadata": {},
   "outputs": [
    {
     "name": "stdout",
     "output_type": "stream",
     "text": [
      "1 1\n",
      "1 2\n",
      "2 3\n",
      "3 5\n",
      "5 8\n",
      "8\n"
     ]
    }
   ],
   "source": [
    "class Solution:\n",
    "    def climbStairs(self, n: int) -> int:\n",
    "        a = b = 1\n",
    "        for _ in range(n):\n",
    "            print (a, b)\n",
    "            a, b = b, a + b\n",
    "        return a\n",
    "\n",
    "# print (Solution().climbStairs(2)) #2   \n",
    "# print (Solution().climbStairs(3)) #3\n",
    "# print (Solution().climbStairs(4)) #5\n",
    "print (Solution().climbStairs(5)) #8\n",
    "        "
   ]
  },
  {
   "cell_type": "code",
   "execution_count": 26,
   "metadata": {},
   "outputs": [],
   "source": [
    "import copy\n",
    "a = [[1]*10]*5\n",
    "a\n",
    "b=copy.deepcopy(a)"
   ]
  },
  {
   "cell_type": "code",
   "execution_count": 27,
   "metadata": {},
   "outputs": [
    {
     "data": {
      "text/plain": [
       "[[1, 99, 1, 1, 1, 1, 1, 1, 1, 1],\n",
       " [1, 99, 1, 1, 1, 1, 1, 1, 1, 1],\n",
       " [1, 99, 1, 1, 1, 1, 1, 1, 1, 1],\n",
       " [1, 99, 1, 1, 1, 1, 1, 1, 1, 1],\n",
       " [1, 99, 1, 1, 1, 1, 1, 1, 1, 1]]"
      ]
     },
     "execution_count": 27,
     "metadata": {},
     "output_type": "execute_result"
    }
   ],
   "source": [
    "a[1][1] = 99\n",
    "a\n",
    "# b"
   ]
  },
  {
   "cell_type": "code",
   "execution_count": 28,
   "metadata": {},
   "outputs": [
    {
     "data": {
      "text/plain": [
       "[[1, 1, 1, 1, 1, 1, 1, 1, 1, 1],\n",
       " [1, 1, 1, 1, 1, 1, 1, 1, 1, 1],\n",
       " [1, 1, 1, 1, 1, 1, 1, 1, 1, 1],\n",
       " [1, 1, 1, 1, 1, 1, 1, 1, 1, 1],\n",
       " [1, 1, 1, 1, 1, 1, 1, 1, 1, 1]]"
      ]
     },
     "execution_count": 28,
     "metadata": {},
     "output_type": "execute_result"
    }
   ],
   "source": [
    "b"
   ]
  },
  {
   "cell_type": "code",
   "execution_count": 29,
   "metadata": {},
   "outputs": [
    {
     "data": {
      "text/plain": [
       "4385089160"
      ]
     },
     "execution_count": 29,
     "metadata": {},
     "output_type": "execute_result"
    }
   ],
   "source": [
    "id(b)"
   ]
  },
  {
   "cell_type": "code",
   "execution_count": null,
   "metadata": {},
   "outputs": [],
   "source": []
  }
 ],
 "metadata": {
  "kernelspec": {
   "display_name": "Python 3",
   "language": "python",
   "name": "python3"
  },
  "language_info": {
   "codemirror_mode": {
    "name": "ipython",
    "version": 3
   },
   "file_extension": ".py",
   "mimetype": "text/x-python",
   "name": "python",
   "nbconvert_exporter": "python",
   "pygments_lexer": "ipython3",
   "version": "3.6.8"
  }
 },
 "nbformat": 4,
 "nbformat_minor": 2
}
