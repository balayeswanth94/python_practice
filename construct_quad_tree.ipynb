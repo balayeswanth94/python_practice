{
 "cells": [
  {
   "cell_type": "code",
   "execution_count": null,
   "metadata": {},
   "outputs": [],
   "source": [
    "class Node:\n",
    "    def __init__(self, val, isLeaf, topLeft, topRight, bottomLeft, bottomRight):\n",
    "        self.val = val\n",
    "        self.isLeaf = isLeaf\n",
    "        self.topLeft = topLeft\n",
    "        self.topRight = topRight\n",
    "        self.bottomLeft = bottomLeft\n",
    "        self.bottomRight = bottomRight\n",
    "\n",
    "class Solution:\n",
    "    def construct(self, grid):\n",
    "        if grid is None: return None\n",
    "#         if all values are same, then its leaf.... I think here we can represent it with just one node - data save ??!!\n",
    "        if self.isLeaf(grid):\n",
    "            return Node(grid[0][0] == 1, True, None, None, None, None)\n",
    "        n = len(grid)\n",
    "        return Node('*',\n",
    "                   False,\n",
    "                   self.construct([row[:n//2] for row in grid[:n//2]]),\n",
    "                   self.construct([row[n//2:] for row in grid[:n//2]]),\n",
    "                   self.construct([row[:n//2] for row in grid[n//2:]]),\n",
    "                   self.construct([row[n//2:] for row in grid[n//2:]])\n",
    "                   )\n",
    "        \n",
    "    def isLeaf(self, grid):\n",
    "        distinct_vals = set()\n",
    "        for i in range(len(grid)):\n",
    "            for j in range(len(grid[i])):\n",
    "                distinct_vals.add(grid[i][j])\n",
    "                if len(distinct_vals) > 1:\n",
    "                    return False\n",
    "        return True\n",
    "\n",
    "    \n",
    "Solution().construct([[1,1,1,1,0,0,0,0],[1,1,1,1,0,0,0,0],[1,1,1,1,1,1,1,1],[1,1,1,1,1,1,1,1],[1,1,1,1,0,0,0,0],[1,1,1,1,0,0,0,0],[1,1,1,1,0,0,0,0],[1,1,1,1,0,0,0,0]])"
   ]
  }
 ],
 "metadata": {
  "kernelspec": {
   "display_name": "Python 3",
   "language": "python",
   "name": "python3"
  },
  "language_info": {
   "codemirror_mode": {
    "name": "ipython",
    "version": 3
   },
   "file_extension": ".py",
   "mimetype": "text/x-python",
   "name": "python",
   "nbconvert_exporter": "python",
   "pygments_lexer": "ipython3",
   "version": "3.6.8"
  }
 },
 "nbformat": 4,
 "nbformat_minor": 2
}
