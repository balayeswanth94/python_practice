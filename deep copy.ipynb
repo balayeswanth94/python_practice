{
 "cells": [
  {
   "cell_type": "code",
   "execution_count": null,
   "metadata": {},
   "outputs": [],
   "source": [
    "# Definition for singly-linked list with a random pointer.\n",
    "class RandomListNode(object):\n",
    "    def __init__(self, x):\n",
    "        self.label = x\n",
    "        self.next = None\n",
    "        self.random = None\n",
    "\n",
    "class Solution(object):\n",
    "    def copyRandomList(self, head):\n",
    "        \"\"\"\n",
    "        :type head: RandomListNode\n",
    "        :rtype: RandomListNode\n",
    "        \"\"\"\n",
    "        if head is None: return None\n",
    "        s = {}\n",
    "        curr = head\n",
    "        while curr:\n",
    "            if curr not in s:\n",
    "                s[curr] = RandomListNode(curr.label)\n",
    "            curr = curr.next\n",
    "        curr = head\n",
    "        while curr:\n",
    "            s[curr].next = s[curr.next] if curr.next in s else None\n",
    "            s[curr].random = s[curr.random] if curr.random in s else None\n",
    "            curr = curr.next\n",
    "        \n",
    "        return s[head] if head in s else None\n",
    "        \n",
    "            \n",
    "            "
   ]
  },
  {
   "cell_type": "code",
   "execution_count": null,
   "metadata": {},
   "outputs": [],
   "source": [
    "# Definition for singly-linked list with a random pointer.\n",
    "class RandomListNode(object):\n",
    "    def __init__(self, x):\n",
    "        self.label = x\n",
    "        self.next = None\n",
    "        self.random = None\n",
    "\n",
    "class Solution(object):\n",
    "    def copyRandomList(self, head):\n",
    "        if head is None: return head\n",
    "        original = head\n",
    "        # Create a copy node of original and put it next to the original\n",
    "        # stop one step before last, to avoid .next.next causing issue\n",
    "        while original:\n",
    "            copy = RandomListNode(original.label)\n",
    "            copy.next = original.next\n",
    "            original.next = copy     \n",
    "            original = original.next.next\n",
    "        original = head\n",
    "        # copy random link from original to copy\n",
    "        while original:\n",
    "            original.next.random = original.random.next if original.random else None\n",
    "            original = original.next.next\n",
    "\n",
    "        #extract copy from original\n",
    "        original = head\n",
    "        copy_head = head.next     \n",
    "        copy_curr = head.next     \n",
    "        while original:            \n",
    "            original.next = original.next.next\n",
    "            copy_curr.next = copy_curr.next.next if copy_curr.next else None\n",
    "            original = original.next\n",
    "            copy_curr = copy_curr.next\n",
    "        \n",
    "        return copy_head"
   ]
  }
 ],
 "metadata": {
  "kernelspec": {
   "display_name": "Python 3",
   "language": "python",
   "name": "python3"
  },
  "language_info": {
   "codemirror_mode": {
    "name": "ipython",
    "version": 3
   },
   "file_extension": ".py",
   "mimetype": "text/x-python",
   "name": "python",
   "nbconvert_exporter": "python",
   "pygments_lexer": "ipython3",
   "version": "3.6.8"
  }
 },
 "nbformat": 4,
 "nbformat_minor": 2
}
