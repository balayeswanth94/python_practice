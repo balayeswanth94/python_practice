{
 "cells": [
  {
   "cell_type": "code",
   "execution_count": 1,
   "metadata": {},
   "outputs": [
    {
     "data": {
      "text/plain": [
       "2"
      ]
     },
     "execution_count": 1,
     "metadata": {},
     "output_type": "execute_result"
    }
   ],
   "source": [
    "'''\n",
    "Input: amount = 5, coins = [1, 2, 5]\n",
    "Output: 4\n",
    "Explanation: there are four ways to make up the amount:\n",
    "5=5\n",
    "5=2+2+1\n",
    "5=2+1+1+1\n",
    "5=1+1+1+1+1\n",
    "\n",
    "https://leetcode.com/problems/coin-change-2/submissions/\n",
    "DP Knapsack problem, no need to use 2D matrix unless we need it\n",
    "Create a matrix for a sample input, you will see we can use the same array to update the result\n",
    "https://leetcode.com/problems/coin-change-2/discuss/99211/python-126-ms-solution-O(n)-space\n",
    "\n",
    "More optimisation\n",
    "1. preprocessing the coins value to be sorted and unique\n",
    "2. further reduce the loop running time by start iterating from value of coin\n",
    "\n",
    "'''\n",
    "\n",
    "def change(amount, coins):\n",
    "    coins.sort()\n",
    "    coins=set(coins)\n",
    "    dp = [1] + [0] * amount\n",
    "    for c in coins:\n",
    "        for i in range(1, amount + 1):\n",
    "            if i >= c:\n",
    "                dp[i] += dp[i - c]\n",
    "    return dp[-1]\n",
    "change(4, [1, 2, 3] )\n",
    "change(2, [1, 2] )\n"
   ]
  },
  {
   "cell_type": "code",
   "execution_count": null,
   "metadata": {},
   "outputs": [],
   "source": []
  }
 ],
 "metadata": {
  "kernelspec": {
   "display_name": "Python 3",
   "language": "python",
   "name": "python3"
  },
  "language_info": {
   "codemirror_mode": {
    "name": "ipython",
    "version": 3
   },
   "file_extension": ".py",
   "mimetype": "text/x-python",
   "name": "python",
   "nbconvert_exporter": "python",
   "pygments_lexer": "ipython3",
   "version": "3.6.8"
  }
 },
 "nbformat": 4,
 "nbformat_minor": 2
}
