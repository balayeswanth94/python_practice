{
 "cells": [
  {
   "cell_type": "code",
   "execution_count": 1,
   "metadata": {},
   "outputs": [],
   "source": [
    "s_actual = \"my.song.mp3 11b\\ngreatSong.flac 1000b\\nnot3.txt 5b\\nvideo.mp4 200b\\ngame.exe 100b\\nmov!e.mkv 10000b\"\n",
    "s_words = s_actual.split(\"\\n\")\n",
    "# s = ['my.song.mp3 11b', 'greatSong.flac 1000b', 'not3.txt 5b', 'video.mp4 200b', 'game.exe 100b', 'mov!e.mkv 10000b']\n"
   ]
  },
  {
   "cell_type": "code",
   "execution_count": 2,
   "metadata": {},
   "outputs": [],
   "source": [
    "    music_ext = ['mp3', 'aac', 'flac']\n",
    "    image_ext = ['jpg', 'bmp', 'gif']\n",
    "    movie_ext = ['mp4', 'avi', 'mkv']\n",
    "    other_ext = ['7z', 'txt', 'zip']\n",
    "# music, image, movie, other\n",
    "ext_mapping = {}\n",
    "ext_mapping['mp3'] = 'music'\n",
    "ext_mapping['aac'] = 'music'\n",
    "ext_mapping['flac'] = 'music'\n",
    "\n",
    "ext_mapping['jpg'] = 'image'\n",
    "ext_mapping['bmp'] = 'image'\n",
    "ext_mapping['gif'] = 'image'\n",
    "\n",
    "ext_mapping['mp4'] = 'movie'\n",
    "ext_mapping['avi'] = 'movie'\n",
    "ext_mapping['mkv'] = 'movie'"
   ]
  },
  {
   "cell_type": "code",
   "execution_count": 3,
   "metadata": {},
   "outputs": [
    {
     "data": {
      "text/plain": [
       "'my.song.mp3 11b'"
      ]
     },
     "execution_count": 3,
     "metadata": {},
     "output_type": "execute_result"
    }
   ],
   "source": [
    "word_1 = s_words[0]\n",
    "word_1"
   ]
  },
  {
   "cell_type": "code",
   "execution_count": 4,
   "metadata": {},
   "outputs": [
    {
     "data": {
      "text/plain": [
       "'mp3 11b'"
      ]
     },
     "execution_count": 4,
     "metadata": {},
     "output_type": "execute_result"
    }
   ],
   "source": [
    "format = word_1.split('.')[-1]\n",
    "format"
   ]
  },
  {
   "cell_type": "code",
   "execution_count": 5,
   "metadata": {},
   "outputs": [
    {
     "data": {
      "text/plain": [
       "11"
      ]
     },
     "execution_count": 5,
     "metadata": {},
     "output_type": "execute_result"
    }
   ],
   "source": [
    "size = int((word_1.split(' ')[-1])[:-1])\n",
    "size"
   ]
  },
  {
   "cell_type": "code",
   "execution_count": 6,
   "metadata": {},
   "outputs": [
    {
     "data": {
      "text/plain": [
       "['mp3', '11b']"
      ]
     },
     "execution_count": 6,
     "metadata": {},
     "output_type": "execute_result"
    }
   ],
   "source": [
    "x = (word_1.split('.')[-1]).split(' ')\n",
    "x"
   ]
  },
  {
   "cell_type": "code",
   "execution_count": 12,
   "metadata": {},
   "outputs": [
    {
     "name": "stdout",
     "output_type": "stream",
     "text": [
      "extension ::  mp3\n",
      "size ::  11\n",
      "extension ::  flac\n",
      "size ::  1000\n",
      "extension ::  txt\n",
      "size ::  5\n",
      "extension ::  mp4\n",
      "size ::  200\n",
      "extension ::  exe\n",
      "size ::  100\n",
      "extension ::  mkv\n",
      "size ::  10000\n",
      "Final calculation :: \n",
      "{'music': 1011, 'image': 0, 'movie': 10200, 'other': 105}\n",
      "music 1011b\n",
      "image 0b\n",
      "movie 10200b\n",
      "other 105b\n",
      "\n"
     ]
    }
   ],
   "source": [
    "\n",
    "total_size = {}\n",
    "total_size['music'] = 0\n",
    "total_size['image'] = 0\n",
    "total_size['movie'] = 0\n",
    "total_size['other'] = 0\n",
    "\n",
    "for file in s_words:\n",
    "    ext, size_str = (file.split('.')[-1]).split(' ')\n",
    "    print (\"extension :: \", ext)\n",
    "    print (\"size :: \", size_str[:-1])\n",
    "    if ext in ext_mapping:\n",
    "        total_size[ext_mapping[ext]] += int(size_str[:-1])\n",
    "    else:\n",
    "        total_size['other'] += int(size_str[:-1])\n",
    "\n",
    "print (\"Final calculation :: \")\n",
    "print (total_size)\n",
    "\n",
    "#preparing final output format\n",
    "output_string = \"\"\n",
    "for key, value in total_size.items():\n",
    "    output_string += key + \" \" + str(value) + \"b\\n\"\n",
    "print (output_string)"
   ]
  },
  {
   "cell_type": "code",
   "execution_count": 13,
   "metadata": {},
   "outputs": [
    {
     "name": "stdout",
     "output_type": "stream",
     "text": [
      "extension ::  mp3\n",
      "size ::  11\n",
      "extension ::  flac\n",
      "size ::  1000\n",
      "extension ::  txt\n",
      "size ::  5\n",
      "extension ::  mp4\n",
      "size ::  200\n",
      "extension ::  exe\n",
      "size ::  100\n",
      "extension ::  mkv\n",
      "size ::  10000\n",
      "Final calculation :: \n",
      "{'music': 1011, 'image': 0, 'movie': 10200, 'other': 105}\n",
      "music 1011b\n",
      "image 0b\n",
      "movie 10200b\n",
      "other 105b\n",
      "\n"
     ]
    }
   ],
   "source": [
    "\n",
    "total_size = {}\n",
    "total_size['music'] = 0\n",
    "total_size['image'] = 0\n",
    "total_size['movie'] = 0\n",
    "total_size['other'] = 0\n",
    "\n",
    "for file in s_actual.split(\"\\n\"):\n",
    "    ext, size_str = (file.split('.')[-1]).split(' ')\n",
    "    print (\"extension :: \", ext)\n",
    "    print (\"size :: \", size_str[:-1])\n",
    "    if ext in ext_mapping:\n",
    "        total_size[ext_mapping[ext]] += int(size_str[:-1])\n",
    "    else:\n",
    "        total_size['other'] += int(size_str[:-1])\n",
    "\n",
    "print (\"Final calculation :: \")\n",
    "print (total_size)\n",
    "\n",
    "#preparing final output format\n",
    "output_string = \"\"\n",
    "for key, value in total_size.items():\n",
    "    output_string += key + \" \" + str(value) + \"b\\n\"\n",
    "print (output_string)"
   ]
  },
  {
   "cell_type": "code",
   "execution_count": null,
   "metadata": {},
   "outputs": [],
   "source": [
    "# you can write to stdout for debugging purposes, e.g.\n",
    "# print(\"this is a debug message\")\n",
    "\n",
    "def solution(S):\n",
    "    # write your code in Python 3.6\n",
    "    # print ('Input :: \\n',S)\n",
    "    # Define extension mapping\n",
    "    # music, image, movie, other\n",
    "    ext_mapping = {}\n",
    "    ext_mapping['mp3'] = 'music'\n",
    "    ext_mapping['aac'] = 'music'\n",
    "    ext_mapping['flac'] = 'music'\n",
    "    ext_mapping['jpg'] = 'images'\n",
    "    ext_mapping['bmp'] = 'images'\n",
    "    ext_mapping['gif'] = 'images'\n",
    "    ext_mapping['mp4'] = 'movies'\n",
    "    ext_mapping['avi'] = 'movies'\n",
    "    ext_mapping['mkv'] = 'movies'\n",
    "\n",
    "    total_size = {}\n",
    "    total_size['music'] = 0\n",
    "    total_size['images'] = 0\n",
    "    total_size['movies'] = 0\n",
    "    total_size['other'] = 0\n",
    "    \n",
    "    s_words = S.split(\"\\n\")\n",
    "    for file in s_words:\n",
    "        # Split by dot, fetch last index\n",
    "        # Split by space for ext and size\n",
    "        ext, size_str = (file.split('.')[-1]).split(' ')\n",
    "        # print (\"extension :: \", ext)\n",
    "        # print (\"size :: \", size_str[:-1])\n",
    "        if ext in ext_mapping:\n",
    "            total_size[ext_mapping[ext]] += int(size_str[:-1])\n",
    "        else:\n",
    "            total_size['other'] += int(size_str[:-1])\n",
    "    \n",
    "    # print (\"After Calculation :: \")\n",
    "    # print (total_size)\n",
    "    \n",
    "    #preparing final output format\n",
    "    output_string = \"\"\n",
    "    for key, value in total_size.items():\n",
    "        output_string += key + \" \" + str(value) + \"b\\n\"\n",
    "    # print (output_string)\n",
    "    \n",
    "    return output_string"
   ]
  }
 ],
 "metadata": {
  "kernelspec": {
   "display_name": "Python 3",
   "language": "python",
   "name": "python3"
  },
  "language_info": {
   "codemirror_mode": {
    "name": "ipython",
    "version": 3
   },
   "file_extension": ".py",
   "mimetype": "text/x-python",
   "name": "python",
   "nbconvert_exporter": "python",
   "pygments_lexer": "ipython3",
   "version": "3.6.8"
  }
 },
 "nbformat": 4,
 "nbformat_minor": 2
}
