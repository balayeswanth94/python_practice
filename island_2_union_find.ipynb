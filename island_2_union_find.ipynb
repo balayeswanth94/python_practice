{
 "cells": [
  {
   "cell_type": "code",
   "execution_count": null,
   "metadata": {},
   "outputs": [],
   "source": [
    "class Solution:\n",
    "    def numIslands2(self, m: 'int', n: 'int', positions: 'List[List[int]]') -> 'List[int]':\n",
    "        dirs = [[-1,0], [1,0], [0,1], [0,-1]]\n",
    "        roots = [-1]*(m*n)\n",
    "#         print (roots)\n",
    "        sizes = [0]*(m*n)\n",
    "        counts = 0\n",
    "        result = []\n",
    "        for pos in positions:\n",
    "#             print (pos)\n",
    "            root = n * pos[0] + pos[1]\n",
    "            roots[root] = root\n",
    "            sizes[root] = 1\n",
    "            counts = counts + 1\n",
    "            for d in dirs:\n",
    "                x = pos[0] + d[0]\n",
    "                y = pos[1] + d[1]\n",
    "                nb = n * x + y  #Neighbour\n",
    "                if (x<0) or (x>=m) or (y<0) or (y>=n) or roots[nb] == -1: continue\n",
    "#                 print (x, \",\", y)\n",
    "#                 print (nb)\n",
    "                root_nb = self.getRoot(roots, nb)\n",
    "#                 print (\"found root of neighbour :: \", root_nb)\n",
    "                if root_nb != root:\n",
    "                    if sizes[root_nb] > sizes[root]:\n",
    "                        roots[root] = root_nb\n",
    "                        root = root_nb\n",
    "                    else:\n",
    "                        roots[root_nb] = root\n",
    "                    counts = counts - 1\n",
    "#             print (counts)\n",
    "            result.append(counts)\n",
    "        return result\n",
    "                \n",
    "    def getRoot(self, roots, x):\n",
    "        while roots[x] != x:\n",
    "            roots[x] = roots[roots[x]] \n",
    "            x = roots[x]\n",
    "        return x\n",
    "    \n",
    "print (Solution().numIslands2(3,3,[[0,0],[0,1],[1,2],[2,1]]))\n",
    "# 3\n",
    "# 3\n",
    "# [[0,0],[0,1],[1,2],[2,1]]"
   ]
  }
 ],
 "metadata": {
  "kernelspec": {
   "display_name": "Python 3",
   "language": "python",
   "name": "python3"
  },
  "language_info": {
   "codemirror_mode": {
    "name": "ipython",
    "version": 3
   },
   "file_extension": ".py",
   "mimetype": "text/x-python",
   "name": "python",
   "nbconvert_exporter": "python",
   "pygments_lexer": "ipython3",
   "version": "3.6.8"
  }
 },
 "nbformat": 4,
 "nbformat_minor": 2
}
