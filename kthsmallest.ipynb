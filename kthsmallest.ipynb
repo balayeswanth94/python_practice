{
 "cells": [
  {
   "cell_type": "code",
   "execution_count": 28,
   "metadata": {},
   "outputs": [
    {
     "name": "stdout",
     "output_type": "stream",
     "text": [
      "4\n"
     ]
    }
   ],
   "source": [
    "from random import randint\n",
    "def findKthLargest(nums, k):\n",
    "    \"\"\"\n",
    "    :type nums: List[int]\n",
    "    :type k: int\n",
    "    :rtype: int\n",
    "    \n",
    "    \n",
    "    Take a pivot and move smaller elements less than it to the left side,\n",
    "        - First move the pivot value to the right most end of the array\n",
    "        - once all smaller elements than it are moved to on side, place this pivot values after those\n",
    "        - So now J'th largest is found without sorting all the values.\n",
    "        \n",
    "    Now check if this J pos is what we want or smaller or greater.\n",
    "    Accordingly partion the array (like split)\n",
    "    \n",
    "    Do this repeatatively untill K-1 == Jth pos\n",
    "        \n",
    "    \"\"\"\n",
    "    \n",
    "    '''    Consider last element as pivot    '''\n",
    "    def partition(a, l, r):\n",
    "        x = a[r]\n",
    "        i = l\n",
    "        for j in range(l,r):\n",
    "            if a[j]>=x: #(a[j]<=x) for kthsmallest\n",
    "                a[i], a[j] = a[j], a[i]\n",
    "                i = i + 1\n",
    "        a[i], a[r] = a[r], a[i]\n",
    "        return i\n",
    "                \n",
    "    '''\n",
    "    get a random no, and get the value at it and move it to the last of the given arr\n",
    "    '''\n",
    "    def random_partition(arr, l, r):\n",
    "        random = randint(l, r)\n",
    "        arr[random], arr[r] = arr[r], arr[random]\n",
    "        return partition(arr, l, r)\n",
    "    \n",
    "    l = 0\n",
    "    r = len(nums)-1\n",
    "    k = k - 1\n",
    "    while True:\n",
    "        pos = random_partition(nums, l, r)\n",
    "        if pos < k:\n",
    "            l = pos + 1\n",
    "        elif pos > k :\n",
    "            r = pos - 1\n",
    "        else: \n",
    "            return nums[pos]\n",
    "        \n",
    "print (findKthLargest([3,2,3,1,2,4,5,5,6], 4))      \n",
    "        "
   ]
  },
  {
   "cell_type": "code",
   "execution_count": 26,
   "metadata": {},
   "outputs": [
    {
     "name": "stdout",
     "output_type": "stream",
     "text": [
      "1::  [3, 2, 3, 1, 2, 4, 5, 5, 6] - 0 8 0\n",
      "2::  [6, 3, 4, 5, 5, 3, 1, 2, 2] - 6 8 0\n",
      "\n",
      "1::  [6, 3, 4, 5, 5, 3, 1, 2, 2] - 0 4 1\n",
      "2::  [6, 5, 4, 5, 3, 3, 1, 2, 2] - 5 4 1\n",
      "\n",
      "1::  [6, 5, 4, 5, 3, 3, 1, 2, 2] - 0 3 3\n",
      "2::  [6, 5, 5, 4, 3, 3, 1, 2, 2] - 3 3 3\n",
      "\n",
      "1::  [6, 5, 5, 4, 3, 3, 1, 2, 2] - 3 3 3\n",
      "2::  [6, 5, 5, 4, 3, 3, 1, 2, 2] - 4 3 3\n",
      "\n",
      "4\n"
     ]
    }
   ],
   "source": [
    "'''\n",
    "https://leetcode.com/problems/kth-largest-element-in-an-array/discuss/60306/Python-different-solutions-with-comments-(bubble-sort-selection-sort-heap-sort-and-quick-sort).\n",
    "https://ocw.mit.edu/courses/electrical-engineering-and-computer-science/6-046j-introduction-to-algorithms-sma-5503-fall-2005/video-lectures/lecture-6-order-statistics-median/\n",
    "\n",
    "Approach - Quick select, random pivot, partition\n",
    "Another approach is - Median of medians as pivot\n",
    "\n",
    "\n",
    "Median of median - reduces the size of array to parse ~ 19/20. Not efficient to use in practical\n",
    "random pivot - Avg time is better, but very very worse case 1/n*n it might get O(n^2)\n",
    "\n",
    "'''\n",
    "\n",
    "from random import randint\n",
    "def findKthLargest(nums, k):\n",
    "    \"\"\"\n",
    "    :type nums: List[int]\n",
    "    :type k: int\n",
    "    :rtype: int\n",
    "    \"\"\"\n",
    "    def partition(l, r):\n",
    "        ri = randint(l, r)\n",
    "        print ('1:: ', nums, \"-\", l,r,ri)\n",
    "        nums[r], nums[ri] = nums[ri], nums[r]\n",
    "        for i, v in enumerate(nums[l: r+1], l):\n",
    "            if v >= nums[r]:\n",
    "                nums[l], nums[i] = nums[i], nums[l]\n",
    "                l += 1\n",
    "        print ('2:: ',nums, \"-\", l,r,ri)\n",
    "        print ()\n",
    "        return l - 1\n",
    "\n",
    "    l, r, k = 0, len(nums) - 1, k - 1\n",
    "    while True:\n",
    "        pos = partition(l, r)\n",
    "        if pos < k:\n",
    "            l = pos + 1\n",
    "        elif pos > k:\n",
    "            r = pos - 1\n",
    "        else:\n",
    "            return nums[pos]\n",
    "        \n",
    "print (findKthLargest([3,2,3,1,2,4,5,5,6], 4))"
   ]
  },
  {
   "cell_type": "code",
   "execution_count": 12,
   "metadata": {},
   "outputs": [
    {
     "name": "stdout",
     "output_type": "stream",
     "text": [
      "5 3\n",
      "6 2\n",
      "7 3\n",
      "8 1\n",
      "9 2\n"
     ]
    }
   ],
   "source": [
    "for i, v in enumerate([3,2,3,1,2,4,5,5,6][0: 5], 5):\n",
    "    print (i, v)"
   ]
  },
  {
   "cell_type": "code",
   "execution_count": 14,
   "metadata": {},
   "outputs": [
    {
     "data": {
      "text/plain": [
       "[1, 2, 3, 4]"
      ]
     },
     "execution_count": 14,
     "metadata": {},
     "output_type": "execute_result"
    }
   ],
   "source": [
    "\"d+\""
   ]
  },
  {
   "cell_type": "code",
   "execution_count": 19,
   "metadata": {},
   "outputs": [
    {
     "name": "stdout",
     "output_type": "stream",
     "text": [
      "None\n"
     ]
    }
   ],
   "source": [
    "a = {\n",
    "    'b': 'b',\n",
    "}\n",
    "\n",
    "print (a.get('c'))"
   ]
  },
  {
   "cell_type": "code",
   "execution_count": null,
   "metadata": {},
   "outputs": [],
   "source": []
  },
  {
   "cell_type": "code",
   "execution_count": null,
   "metadata": {},
   "outputs": [],
   "source": []
  },
  {
   "cell_type": "code",
   "execution_count": null,
   "metadata": {},
   "outputs": [],
   "source": []
  },
  {
   "cell_type": "code",
   "execution_count": null,
   "metadata": {},
   "outputs": [],
   "source": []
  },
  {
   "cell_type": "code",
   "execution_count": null,
   "metadata": {},
   "outputs": [],
   "source": []
  },
  {
   "cell_type": "code",
   "execution_count": null,
   "metadata": {},
   "outputs": [],
   "source": []
  },
  {
   "cell_type": "code",
   "execution_count": null,
   "metadata": {},
   "outputs": [],
   "source": []
  },
  {
   "cell_type": "code",
   "execution_count": null,
   "metadata": {},
   "outputs": [],
   "source": [
    "\n",
    "\n",
    "\n",
    "\n"
   ]
  }
 ],
 "metadata": {
  "kernelspec": {
   "display_name": "Python 3",
   "language": "python",
   "name": "python3"
  },
  "language_info": {
   "codemirror_mode": {
    "name": "ipython",
    "version": 3
   },
   "file_extension": ".py",
   "mimetype": "text/x-python",
   "name": "python",
   "nbconvert_exporter": "python",
   "pygments_lexer": "ipython3",
   "version": "3.7.1"
  }
 },
 "nbformat": 4,
 "nbformat_minor": 2
}
