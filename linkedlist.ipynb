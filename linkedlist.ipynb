{
 "cells": [
  {
   "cell_type": "code",
   "execution_count": 19,
   "metadata": {},
   "outputs": [],
   "source": [
    "# print k from last\n",
    "class Node:\n",
    "    def __init__(self, val: 'int', nextNode: 'Node' = None)-> 'None':\n",
    "        self.val = val\n",
    "        self.next = nextNode\n",
    "\n",
    "        \n",
    "#store few params in this class to reduce time complexities for some operations like lenght of the list\n",
    "#Time complexities\n",
    "# inserting at back O(n)\n",
    "# inserting at start O(1)\n",
    "# deleting, worst case O(n)\n",
    "# traversing, worst case O(n)\n",
    "\n",
    "# to find n-k, kth node from last, store k to avoid traversal. Insertion should happend only via insert def. so that\n",
    "# count will get increased \n",
    "class LinkedList:\n",
    "    def __init__(self, node):\n",
    "        self.head = node\n",
    "        self.n = 0\n",
    "        \n",
    "    # insert at the end\n",
    "    def insert(self, newNode):\n",
    "        currNode = self.head\n",
    "        while currNode is not None:\n",
    "            if currNode.next is None:\n",
    "                currNode.next = newNode\n",
    "            currNode = currNode.next\n",
    "        self.n += 1\n",
    "    def delete(self, valueToDelete):\n",
    "        currNode = self.head\n",
    "        prevNode = None\n",
    "        while currNode is not None:\n",
    "            if currNode.val == valueToDelete:\n",
    "                if prevNode is None:\n",
    "                    newHead = currNode.next\n",
    "                    currNode.next = None\n",
    "#                     print(newHead.val)\n",
    "                    self.n -= 1\n",
    "                    self.head = newHead\n",
    "                    return self.head\n",
    "                prevNode.next = currNode.next\n",
    "                self.n -= 1\n",
    "                return self.head\n",
    "            prevNode = currNode\n",
    "            currNode = currNode.next\n",
    "        return self.head\n",
    "    \n",
    "    def display(self):\n",
    "        currNode = self.head\n",
    "        while currNode is not None:\n",
    "            print (currNode.val, \"->\", end = \"\")\n",
    "            currNode = currNode.next\n",
    "\n",
    "            \n",
    "\n"
   ]
  },
  {
   "cell_type": "code",
   "execution_count": 21,
   "metadata": {},
   "outputs": [
    {
     "name": "stdout",
     "output_type": "stream",
     "text": [
      "1 ->2 ->3 ->\n",
      " 0\n"
     ]
    }
   ],
   "source": [
    "n1 = Node(1) \n",
    "n2 = Node(2) \n",
    "n3 = Node(3)\n",
    "\n",
    "n1.next = n2\n",
    "n2.next = n3\n",
    "\n",
    "ll = LinkedList(n1)\n",
    "ll.display()\n",
    "print (\"\\n\", ll.n)\n",
    "# print()\n",
    "# ll.delete(3)\n",
    "# ll.display()\n",
    "\n",
    "# print()\n",
    "# ll.delete(1)\n",
    "# ll.display()\n",
    "\n",
    "# print()\n",
    "# ll.delete(2)\n",
    "# ll.display()"
   ]
  },
  {
   "cell_type": "code",
   "execution_count": null,
   "metadata": {},
   "outputs": [],
   "source": []
  }
 ],
 "metadata": {
  "kernelspec": {
   "display_name": "Python 3",
   "language": "python",
   "name": "python3"
  },
  "language_info": {
   "codemirror_mode": {
    "name": "ipython",
    "version": 3
   },
   "file_extension": ".py",
   "mimetype": "text/x-python",
   "name": "python",
   "nbconvert_exporter": "python",
   "pygments_lexer": "ipython3",
   "version": "3.6.8"
  }
 },
 "nbformat": 4,
 "nbformat_minor": 2
}
