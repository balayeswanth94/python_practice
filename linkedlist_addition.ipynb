{
 "cells": [
  {
   "cell_type": "code",
   "execution_count": 21,
   "metadata": {},
   "outputs": [
    {
     "name": "stdout",
     "output_type": "stream",
     "text": [
      "Output ::  <__main__.SLinkedList object at 0x1091739e8>\n",
      "0 ->0 ->1 ->"
     ]
    }
   ],
   "source": [
    "class ListNode:\n",
    "    def __init__(self, val = None):\n",
    "        self.val = val\n",
    "        self.next = None\n",
    "    def display_chain(self):\n",
    "        node = self\n",
    "        while node:\n",
    "            print (node.val, \"->\", end =\"\")\n",
    "            node = node.next\n",
    "class SLinkedList:\n",
    "    def __init__(self):\n",
    "        self.head = None\n",
    "    def display(self):\n",
    "        node = self.head\n",
    "        while node:\n",
    "            print (node.val, \"->\", end =\"\")\n",
    "            node = node.next\n",
    "    \n",
    "\n",
    "def add_linkedlist(list1, list2):\n",
    "    list3 = SLinkedList()\n",
    "    n1 = list1\n",
    "    n2 = list2\n",
    "    carry = 0\n",
    "#     Start, can use one more node to avoid extra lines.\n",
    "    prev = ListNode(0)\n",
    "    list3.head = prev\n",
    "\n",
    "    while (n1 or n2) :\n",
    "        sum = (n1.val if n1 and n1.val else 0) + (n2.val if n2 and n2.val else 0)\n",
    "        n3 = ListNode((sum + carry)%10)\n",
    "        carry = int((sum + carry)/10)\n",
    "        n1 = n1.next if n1 else None\n",
    "        n2 = n2.next if n2 else None\n",
    "        prev.next = n3\n",
    "        prev = n3\n",
    "    if carry > 0 :\n",
    "        n3 = ListNode(carry)\n",
    "        prev.next = n3\n",
    "    print (\"Output :: \", list3)\n",
    "    return list3.head.next\n",
    "\n",
    "n99 = Node(9)\n",
    "n99.next = Node(9)\n",
    "\n",
    "add_linkedlist(Node(1), n99).display_chain()\n",
    "\n"
   ]
  }
 ],
 "metadata": {
  "kernelspec": {
   "display_name": "Python 3",
   "language": "python",
   "name": "python3"
  },
  "language_info": {
   "codemirror_mode": {
    "name": "ipython",
    "version": 3
   },
   "file_extension": ".py",
   "mimetype": "text/x-python",
   "name": "python",
   "nbconvert_exporter": "python",
   "pygments_lexer": "ipython3",
   "version": "3.6.8"
  }
 },
 "nbformat": 4,
 "nbformat_minor": 2
}
