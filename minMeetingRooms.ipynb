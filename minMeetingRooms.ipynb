{
 "cells": [
  {
   "cell_type": "code",
   "execution_count": null,
   "metadata": {},
   "outputs": [],
   "source": [
    "'''\n",
    "253. Meeting Rooms II\n",
    "https://leetcode.com/problems/meeting-rooms-ii/\n",
    "\n",
    "Visual Example\n",
    "--------------\n",
    "https://i.loli.net/2018/09/24/5ba81e5ea9d15.jpg\n",
    "\n",
    "Good thinking (But i used regular approach below)\n",
    "--------------\n",
    "https://leetcode.com/problems/meeting-rooms-ii/discuss/67855/Explanation-of-%22Super-Easy-Java-Solution-Beats-98.8%22-from-%40pinkfloyda\n",
    "Actually the only matter here are the staer points and end points value. How they combine together to form the intervals does not matter at all. [a1, b1] and [a2, b2] would produce the same answer with [a1 b2] and [a2 b1].\n",
    "We use negative value to indicate the end value and do the sorting by their absolute value. Then we calculate the answer by adding one if we meet start point and minus one if we see end point.\n",
    "\n",
    "Example:\n",
    "Input: [[0, 30],[5, 10],[15, 20]]\n",
    "Store: 0, -30, 5, -10, 15, -20\n",
    "After sort: 0, 5, -10, 15, -20, -30\n",
    "Room: 1, 2, 1, 2, 1, 0\n",
    "So the answer here is 2.\n",
    "'''"
   ]
  },
  {
   "cell_type": "code",
   "execution_count": 45,
   "metadata": {},
   "outputs": [
    {
     "name": "stdout",
     "output_type": "stream",
     "text": [
      "2\n",
      "1\n",
      "2\n",
      "2\n",
      "2\n"
     ]
    }
   ],
   "source": [
    "class Solution:\n",
    "    def minMeetingRooms(self, intervals):\n",
    "        if len(intervals) == 0:\n",
    "            return 0\n",
    "        starts = []\n",
    "        ends = []\n",
    "        for pair in intervals:\n",
    "            starts.append(pair[0])\n",
    "            ends.append(pair[1])\n",
    "        starts.sort()\n",
    "        ends.sort()\n",
    "        i = 0\n",
    "        ends_itr = 0\n",
    "        res = 0\n",
    "        for i in range(len(intervals)):\n",
    "        # while i < len(intervals): doubled the run time required than for:O\n",
    "            if starts[i] < ends[ends_itr]:\n",
    "                res = res + 1\n",
    "            else:\n",
    "                ends_itr = ends_itr + 1\n",
    "        return res\n",
    "        \n",
    "        \n",
    "print(Solution().minMeetingRooms([[0, 30],[5, 10],[15, 20]])) #2\n",
    "print(Solution().minMeetingRooms([[7,10],[2,4]])) #1\n",
    "print(Solution().minMeetingRooms([[5,8],[6,8]])) #2\n",
    "print(Solution().minMeetingRooms([[9,10],[4,9],[4,17]])) #2\n",
    "print (Solution().minMeetingRooms([[2,11],[6,16],[11,16]])) #2\n",
    "\n",
    "\n"
   ]
  },
  {
   "cell_type": "code",
   "execution_count": 28,
   "metadata": {},
   "outputs": [
    {
     "name": "stdout",
     "output_type": "stream",
     "text": [
      "1 2\n",
      "2 3\n"
     ]
    }
   ],
   "source": [
    "a = [1,2,3]\n",
    "itercars = iter(a)\n",
    "next(itercars)\n",
    "for k,v in enumerate(itercars, 1):\n",
    "    print (k, v)"
   ]
  },
  {
   "cell_type": "code",
   "execution_count": null,
   "metadata": {},
   "outputs": [],
   "source": []
  },
  {
   "cell_type": "code",
   "execution_count": null,
   "metadata": {},
   "outputs": [],
   "source": []
  },
  {
   "cell_type": "code",
   "execution_count": null,
   "metadata": {},
   "outputs": [],
   "source": []
  },
  {
   "cell_type": "code",
   "execution_count": null,
   "metadata": {},
   "outputs": [],
   "source": []
  },
  {
   "cell_type": "code",
   "execution_count": null,
   "metadata": {},
   "outputs": [],
   "source": []
  }
 ],
 "metadata": {
  "kernelspec": {
   "display_name": "Python 3",
   "language": "python",
   "name": "python3"
  },
  "language_info": {
   "codemirror_mode": {
    "name": "ipython",
    "version": 3
   },
   "file_extension": ".py",
   "mimetype": "text/x-python",
   "name": "python",
   "nbconvert_exporter": "python",
   "pygments_lexer": "ipython3",
   "version": "3.6.8"
  }
 },
 "nbformat": 4,
 "nbformat_minor": 2
}
