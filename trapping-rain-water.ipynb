{
 "cells": [
  {
   "cell_type": "code",
   "execution_count": 30,
   "metadata": {},
   "outputs": [
    {
     "data": {
      "text/plain": [
       "6"
      ]
     },
     "execution_count": 30,
     "metadata": {},
     "output_type": "execute_result"
    }
   ],
   "source": [
    "class Solution:\n",
    "    def trap(self, height: 'List[int]') -> 'int':\n",
    "        print (\"Input :: \", height)\n",
    "        length = len(height)\n",
    "        if length < 1: \n",
    "            return 0\n",
    "        max_left = [None] * length\n",
    "        max_left[0] = height[0]\n",
    "        max_right = [None] * length\n",
    "        max_right[length - 1] = height[length - 1]\n",
    "        for i in range(1, length):\n",
    "            max_left[i] = max(max_left[i-1], height[i])\n",
    "            \n",
    "        for i in range(length-2, -1, -1):\n",
    "            max_right[i] = max(max_right[i+1], height[i])\n",
    "            \n",
    "        print (max_left)\n",
    "        print (max_right)\n",
    "        i = 0\n",
    "        capacity = 0\n",
    "        for h in height:\n",
    "            capacity += min(max_left[i], max_right[i]) - h\n",
    "            i += 1;\n",
    "        print (capacity)\n",
    "        return capacity\n",
    "\n",
    "Solution().trap([0,1,0,2,1,0,1,3,2,1,2,1])"
   ]
  },
  {
   "cell_type": "code",
   "execution_count": 9,
   "metadata": {},
   "outputs": [
    {
     "name": "stdout",
     "output_type": "stream",
     "text": [
      "4\n",
      "3\n",
      "2\n",
      "1\n",
      "0\n",
      "------------\n",
      "0\n",
      "1\n",
      "2\n",
      "3\n"
     ]
    }
   ],
   "source": [
    "for i in range(len([1,2,3,4,5])-1, -1, -1):\n",
    "    print (i)\n",
    "print (\"------------\")\n",
    "for i in range(0, len([1,2,3,4,5])-1):\n",
    "    print (i)"
   ]
  },
  {
   "cell_type": "code",
   "execution_count": 32,
   "metadata": {},
   "outputs": [],
   "source": [
    "class Solution:\n",
    "    def trap(self, height: 'List[int]') -> 'int':\n",
    "        l = 0\n",
    "        r = len(height) - 1\n",
    "        left_max = 0 \n",
    "        right_max = 0\n",
    "        ret = 0\n",
    "\n",
    "        while l < r: \n",
    "            if height[l] < height[r]:            \n",
    "                left_max = max(left_max, height[l]);\n",
    "                ret += left_max - height[l];\n",
    "                l = l+1;\n",
    "            else:                               \n",
    "                right_max = max(right_max, height[r]);\n",
    "                ret += right_max - height[r];\n",
    "                r = r-1;\n",
    "        return ret"
   ]
  },
  {
   "cell_type": "code",
   "execution_count": null,
   "metadata": {},
   "outputs": [],
   "source": [
    "def findMaxVol(height):\n",
    "    \"\"\"\n",
    "    :type height: List[int]\n",
    "    :rtype: int\n",
    "    https://stackoverflow.com/questions/10670301/find-the-maximum-possible-area\n",
    "    Given array height of length n:\n",
    "\n",
    "    Start with the widest container you can, i.e. from left side at 0 to right side at n-1.\n",
    "\n",
    "    If a better container exists it will be narrower, so its both sides must be higher than the lower of currently chosen sides.\n",
    "\n",
    "    So, change left to (left+1) if height[left] < height[right], otherwise change right to (right-1).\n",
    "\n",
    "    Calculate new area, if it's better than what you have so far, replace.\n",
    "\n",
    "    If left < right, start over from 2.\n",
    "    \"\"\"\n",
    "    left = 0\n",
    "    right = len(height) - 1\n",
    "    max_area = 0\n",
    "    while (left < right):\n",
    "        temp_area = ((right - left - 1) * min(height[left], height[right]))\n",
    "        if (temp_area > max_area):\n",
    "#             print (height[left], height[right], temp_area)\n",
    "            max_area = temp_area\n",
    "        elif (height[right] > height[left]):\n",
    "            left = left + 1\n",
    "        else:\n",
    "            right = right - 1\n",
    "    return max_area\n",
    "\n",
    "print (findMaxVol([1,2,3,4,5])) #4\n",
    "print (findMaxVol([3,2,1,4,5])) #9"
   ]
  }
 ],
 "metadata": {
  "kernelspec": {
   "display_name": "Python 3",
   "language": "python",
   "name": "python3"
  },
  "language_info": {
   "codemirror_mode": {
    "name": "ipython",
    "version": 3
   },
   "file_extension": ".py",
   "mimetype": "text/x-python",
   "name": "python",
   "nbconvert_exporter": "python",
   "pygments_lexer": "ipython3",
   "version": "3.6.8"
  }
 },
 "nbformat": 4,
 "nbformat_minor": 2
}
